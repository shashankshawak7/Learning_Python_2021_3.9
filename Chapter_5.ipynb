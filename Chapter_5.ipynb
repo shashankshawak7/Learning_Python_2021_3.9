{
 "cells": [
  {
   "cell_type": "code",
   "execution_count": 20,
   "metadata": {},
   "outputs": [],
   "source": [
    "from time import time"
   ]
  },
  {
   "cell_type": "code",
   "execution_count": 21,
   "metadata": {},
   "outputs": [],
   "source": [
    "def decorator(func):  #decorator\n",
    "    def innerfunction(*args,**kwargs):\n",
    "        print(\"this is a function \")\n",
    "        print(f'start time is {time()}')\n",
    "        response = func(*args,**kwargs)\n",
    "        print(f'end time is {time()}')\n",
    "        return response\n",
    "    return innerfunction"
   ]
  },
  {
   "cell_type": "code",
   "execution_count": 23,
   "metadata": {},
   "outputs": [],
   "source": [
    "@decorator # for calling a decorator \n",
    "def squareroot(number):\n",
    "    return number**0.5"
   ]
  },
  {
   "cell_type": "code",
   "execution_count": 24,
   "metadata": {},
   "outputs": [
    {
     "name": "stdout",
     "output_type": "stream",
     "text": [
      "this is a function \n",
      "start time is 1620287510.5693073\n",
      "end time is 1620287510.5693073\n"
     ]
    },
    {
     "data": {
      "text/plain": [
       "2.449489742783178"
      ]
     },
     "execution_count": 24,
     "metadata": {},
     "output_type": "execute_result"
    }
   ],
   "source": [
    "squareroot(6)"
   ]
  },
  {
   "cell_type": "code",
   "execution_count": 54,
   "metadata": {},
   "outputs": [],
   "source": [
    "#Exception handling\n",
    "def division(a,b):\n",
    "    try:\n",
    "        out=a/b\n",
    "        \n",
    "    \n",
    "    except(ZeroDivisionError,ConnectionError):\n",
    "        out ='zero se mat divide karo bhai'\n",
    "        \n",
    "    except Exception as e:\n",
    "        out = e\n",
    "    else:\n",
    "        #do something\n",
    "        print('shashank')\n",
    "    finally:\n",
    "        #when all checks done then do something finally at the end\n",
    "        return out"
   ]
  },
  {
   "cell_type": "code",
   "execution_count": 55,
   "metadata": {},
   "outputs": [
    {
     "data": {
      "text/plain": [
       "'zero se mat divide karo bhai'"
      ]
     },
     "execution_count": 55,
     "metadata": {},
     "output_type": "execute_result"
    }
   ],
   "source": [
    "division(1,0)"
   ]
  },
  {
   "cell_type": "code",
   "execution_count": null,
   "metadata": {},
   "outputs": [],
   "source": []
  },
  {
   "cell_type": "code",
   "execution_count": 88,
   "metadata": {},
   "outputs": [],
   "source": [
    "@decExcept\n",
    "def division(a,b):\n",
    "\n",
    "    out =  a/b\n",
    "    return out"
   ]
  },
  {
   "cell_type": "code",
   "execution_count": 89,
   "metadata": {},
   "outputs": [],
   "source": [
    "def decExcept(func):\n",
    "    def inner_function(*args,**kwargs):\n",
    "        try:\n",
    "            response = func(*args,**kwargs)\n",
    "            print(f'currently running function is {func.__name__}')\n",
    "            return response\n",
    "        except Exception as e:\n",
    "            return e\n",
    "    return inner_function"
   ]
  },
  {
   "cell_type": "code",
   "execution_count": 90,
   "metadata": {},
   "outputs": [
    {
     "name": "stdout",
     "output_type": "stream",
     "text": [
      "currently running function is division\n"
     ]
    },
    {
     "data": {
      "text/plain": [
       "0.5"
      ]
     },
     "execution_count": 90,
     "metadata": {},
     "output_type": "execute_result"
    }
   ],
   "source": [
    "division(1,2)"
   ]
  },
  {
   "cell_type": "code",
   "execution_count": null,
   "metadata": {},
   "outputs": [],
   "source": []
  },
  {
   "cell_type": "code",
   "execution_count": null,
   "metadata": {},
   "outputs": [],
   "source": []
  }
 ],
 "metadata": {
  "kernelspec": {
   "display_name": "Python 3",
   "language": "python",
   "name": "python3"
  },
  "language_info": {
   "codemirror_mode": {
    "name": "ipython",
    "version": 3
   },
   "file_extension": ".py",
   "mimetype": "text/x-python",
   "name": "python",
   "nbconvert_exporter": "python",
   "pygments_lexer": "ipython3",
   "version": "3.8.5"
  }
 },
 "nbformat": 4,
 "nbformat_minor": 4
}
